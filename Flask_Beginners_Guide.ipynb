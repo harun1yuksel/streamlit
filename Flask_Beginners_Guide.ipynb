{
 "cells": [
  {
   "cell_type": "markdown",
   "id": "16c14a5b",
   "metadata": {},
   "source": [
    "# A Beginners Guide To Streamlit"
   ]
  },
  {
   "cell_type": "markdown",
   "id": "d0c9e6c9",
   "metadata": {},
   "source": [
    "- https://www.fullstackpython.com/flask.html\n",
    "- https://www.geeksforgeeks.org/flask-creating-first-simple-application/\n",
    "- https://towardsdatascience.com/how-to-easily-deploy-machine-learning-models-using-flask-b95af8fe34d4"
   ]
  },
  {
   "cell_type": "code",
   "execution_count": 1,
   "id": "449cc49a",
   "metadata": {},
   "outputs": [],
   "source": [
    "import warnings\n",
    "warnings.filterwarnings(\"ignore\")\n",
    "warnings.warn(\"this will not show\")"
   ]
  },
  {
   "cell_type": "markdown",
   "id": "08000d2d",
   "metadata": {},
   "source": [
    "# First App - Hello World!"
   ]
  },
  {
   "cell_type": "code",
   "execution_count": 2,
   "id": "67e768a3",
   "metadata": {},
   "outputs": [
    {
     "name": "stdout",
     "output_type": "stream",
     "text": [
      " * Serving Flask app \"__main__\" (lazy loading)\n",
      " * Environment: production\n",
      "\u001b[31m   WARNING: This is a development server. Do not use it in a production deployment.\u001b[0m\n",
      "\u001b[2m   Use a production WSGI server instead.\u001b[0m\n",
      " * Debug mode: off\n"
     ]
    },
    {
     "name": "stderr",
     "output_type": "stream",
     "text": [
      " * Running on http://localhost:5000/ (Press CTRL+C to quit)\n",
      "127.0.0.1 - - [14/Sep/2022 19:01:27] \"GET / HTTP/1.1\" 200 -\n",
      "127.0.0.1 - - [14/Sep/2022 19:01:28] \"GET /favicon.ico HTTP/1.1\" 404 -\n"
     ]
    }
   ],
   "source": [
    "from flask import Flask\n",
    "\n",
    "app = Flask(__name__)\n",
    "\n",
    "@app.route('/')\n",
    "def hello_world():\n",
    "    return 'Hello, World!'\n",
    "\n",
    "if __name__ == '__main__':\n",
    "    # click Running on below link\n",
    "    app.run(host='localhost', port=5000, debug=False)"
   ]
  },
  {
   "cell_type": "markdown",
   "id": "0638d24a",
   "metadata": {},
   "source": [
    "**check interrupt for App without going to next code and refresh apening page**"
   ]
  },
  {
   "cell_type": "markdown",
   "id": "bdcbb1d9",
   "metadata": {},
   "source": [
    "# Model Flask App"
   ]
  },
  {
   "cell_type": "code",
   "execution_count": 3,
   "id": "88a86d67",
   "metadata": {},
   "outputs": [
    {
     "name": "stdout",
     "output_type": "stream",
     "text": [
      " * Serving Flask app \"__main__\" (lazy loading)\n",
      " * Environment: production\n",
      "\u001b[31m   WARNING: This is a development server. Do not use it in a production deployment.\u001b[0m\n",
      "\u001b[2m   Use a production WSGI server instead.\u001b[0m\n",
      " * Debug mode: off\n"
     ]
    },
    {
     "name": "stderr",
     "output_type": "stream",
     "text": [
      " * Running on http://localhost:5000/ (Press CTRL+C to quit)\n",
      "127.0.0.1 - - [14/Sep/2022 19:02:20] \"GET / HTTP/1.1\" 200 -\n",
      "127.0.0.1 - - [14/Sep/2022 19:02:22] \"GET / HTTP/1.1\" 200 -\n",
      "127.0.0.1 - - [14/Sep/2022 19:02:25] \"GET /prediction HTTP/1.1\" 200 -\n",
      "127.0.0.1 - - [14/Sep/2022 19:03:33] \"GET / HTTP/1.1\" 200 -\n",
      "127.0.0.1 - - [14/Sep/2022 19:03:34] \"GET /prediction HTTP/1.1\" 200 -\n"
     ]
    }
   ],
   "source": [
    "# conda install -c anaconda flask\n",
    "from flask import Flask, request, jsonify, render_template\n",
    "import numpy as np\n",
    "import pandas as pd\n",
    "import pickle\n",
    "\n",
    "model = pickle.load(open(\"final_model_hearing\", \"rb\"))\n",
    "\n",
    "app = Flask(__name__)\n",
    "\n",
    "@app.route('/')\n",
    "def index():\n",
    "    return \"\"\"\n",
    "        <h1 align='center'>Model Home Page</h1>\n",
    "        <p align=\"center\">\n",
    "          <a href=prediction><button>predict: mean_human</button></a>\n",
    "        </p>\n",
    "    \"\"\"\n",
    "\n",
    "@app.route('/prediction')\n",
    "def predict():\n",
    "    mean_human = pd.DataFrame.from_dict({\n",
    "        'thighcircumference': 623.5836366788005, 'sittingheight': 898.5924770324146, \n",
    "        'shouldercircumference': 1131.2144219102097, 'heelbreadth': 70.83411336453459, \n",
    "        'radialestylionlength': 259.75767030681226, 'span': 1766.9511180447219, 'bitragionchinarc': 324.9622118218062, \n",
    "        'shoulderelbowlength': 354.80516553995494, 'waistbreadth': 318.40994973132257, 'anklecircumference': 225.20176807072284, \n",
    "        'bicepscircumferenceflexed': 341.66302652106083, 'trochanterionheight': 884.659386375455, \n",
    "        'headcircumference': 570.424336973479, 'handlength': 189.57479632518633, 'chestdepth': 252.3225862367828, \n",
    "        'bimalleolarbreadth': 72.33541341653667, 'headlength': 196.640838966892, 'bicristalbreadth': 274.9034494713122, \n",
    "        'Age': 29.776391055642225, 'heelanklecircumference': 333.2749176633732, 'handcircumference': 204.21563529207836, \n",
    "        'stature': 1716.9389842260357, 'chestcircumference': 1024.2066215981972, 'Gender': 'Male', \n",
    "        'SubjectsBirthLocation': 'California'}, orient='index'\n",
    "    ).T\n",
    "    prediction = model.predict(mean_human)\n",
    "\n",
    "    return f\"\"\"\n",
    "        <h1 align='center'>Model Prediction</h1>\n",
    "        <p align=\"center\"><span style=\"background-color:tomato;\">prediction: {prediction[0]}</span></p>\n",
    "        \n",
    "    \"\"\"\n",
    "\n",
    "if __name__ == \"__main__\":    \n",
    "    # click Running on below link\n",
    "    app.run(host='localhost', port=5000, debug=False)"
   ]
  },
  {
   "cell_type": "markdown",
   "id": "7ae551b8",
   "metadata": {},
   "source": [
    "**check interrupt for App without going to next code and refresh apening page**"
   ]
  },
  {
   "cell_type": "markdown",
   "id": "655ce362",
   "metadata": {},
   "source": [
    "# with Request and Command Prompt, Flask App"
   ]
  },
  {
   "cell_type": "code",
   "execution_count": 23,
   "id": "776bb022",
   "metadata": {},
   "outputs": [],
   "source": [
    "!IF NOT EXIST templates MKDIR templates"
   ]
  },
  {
   "cell_type": "code",
   "execution_count": 24,
   "id": "68df5483",
   "metadata": {},
   "outputs": [
    {
     "name": "stdout",
     "output_type": "stream",
     "text": [
      "Overwriting templates\\index.html\n"
     ]
    }
   ],
   "source": [
    "%%writefile templates\\index.html \n",
    "\n",
    "<!DOCTYPE html>\n",
    "<html>\n",
    "<head>\n",
    "  <title>Deployment Tutorial</title>\n",
    "<link href='https://fonts.googleapis.com/css?family=Pacifico' rel='stylesheet' type='text/css'>\n",
    "</head>\n",
    "<body>\n",
    " <p align=\"center\"><a href=query-example><button class=grey style=\"height:75px;width:150px\">query-example</button></a></p>\n",
    " <p align=\"center\"><a href=form-example><button class=grey style=\"height:75px;width:150px\">form-example</button></a></p>\n",
    " <p align=\"center\"><a href=json-example><button class=grey style=\"height:75px;width:150px\">json-example</button></a></p>\n",
    "</body>\n",
    "</html>"
   ]
  },
  {
   "cell_type": "code",
   "execution_count": 25,
   "id": "fb44ca9d",
   "metadata": {},
   "outputs": [
    {
     "name": "stdout",
     "output_type": "stream",
     "text": [
      "Overwriting app.py\n"
     ]
    }
   ],
   "source": [
    "%%writefile app.py\n",
    "\n",
    "# import main Flask class and request object\n",
    "from flask import Flask, render_template, request\n",
    "# import os\n",
    "\n",
    "# create the Flask app\n",
    "app = Flask(__name__, template_folder='./templates')\n",
    "\n",
    "@app.route('/')\n",
    "def index():\n",
    "    return render_template('index.html')\n",
    "\n",
    "@app.route('/query-example')\n",
    "def query_example():\n",
    "    return '<h1>Query String Example</h1>'\n",
    "\n",
    "@app.route('/form-example')\n",
    "def form_example():\n",
    "    return '<h1>Form Data Example</h1>'\n",
    "\n",
    "@app.route('/json-example')\n",
    "def json_example():\n",
    "    return '<h1>JSON Object Example</h1>'\n",
    "\n",
    "if __name__ == '__main__':\n",
    "#     os.environ.setdefault('FLASK_ENV', 'development') # or use debug parameter\n",
    "    # run app in debug mode on port 5000\n",
    "    app.run(host='localhost', port=5000)"
   ]
  },
  {
   "cell_type": "markdown",
   "id": "7c6a77c2",
   "metadata": {},
   "source": [
    "before run app.py check page\n",
    "- http://localhost:5000/"
   ]
  },
  {
   "cell_type": "code",
   "execution_count": 26,
   "id": "d50af941",
   "metadata": {},
   "outputs": [
    {
     "name": "stdout",
     "output_type": "stream",
     "text": [
      "http://localhost:5000/\n"
     ]
    }
   ],
   "source": [
    "# use anaconda prompt\n",
    "# Type full path to app.py or drag and drop\n",
    "# python path\\app.py\n",
    "\n",
    "import requests\n",
    "url = 'http://localhost:5000'\n",
    "r = requests.post(url)\n",
    "\n",
    "print(r.url)"
   ]
  },
  {
   "cell_type": "code",
   "execution_count": null,
   "id": "b09c64a3",
   "metadata": {},
   "outputs": [],
   "source": []
  }
 ],
 "metadata": {
  "kernelspec": {
   "display_name": "Python 3 (ipykernel)",
   "language": "python",
   "name": "python3"
  },
  "language_info": {
   "codemirror_mode": {
    "name": "ipython",
    "version": 3
   },
   "file_extension": ".py",
   "mimetype": "text/x-python",
   "name": "python",
   "nbconvert_exporter": "python",
   "pygments_lexer": "ipython3",
   "version": "3.9.13"
  },
  "toc": {
   "base_numbering": 1,
   "nav_menu": {},
   "number_sections": true,
   "sideBar": true,
   "skip_h1_title": false,
   "title_cell": "Table of Contents",
   "title_sidebar": "Contents",
   "toc_cell": false,
   "toc_position": {},
   "toc_section_display": true,
   "toc_window_display": false
  }
 },
 "nbformat": 4,
 "nbformat_minor": 5
}
